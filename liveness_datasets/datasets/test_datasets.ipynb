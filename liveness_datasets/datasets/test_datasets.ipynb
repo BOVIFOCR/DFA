{
 "cells": [
  {
   "cell_type": "code",
   "execution_count": 16,
   "id": "2ce19a0e",
   "metadata": {},
   "outputs": [],
   "source": [
    "from casia_fasd import CASIAFASDDataset\n",
    "from replay_attack import ReplayAttackDataset\n",
    "import torch\n",
    "from torchvision.utils import make_grid\n",
    "from torch.utils.data import DataLoader\n",
    "import numpy as np\n",
    "import matplotlib.pyplot as plt\n",
    "\n",
    "import torchvision.transforms.functional as F\n",
    "import torchvision.transforms as T\n",
    "\n",
    "plt.rcParams[\"savefig.bbox\"] = 'tight'\n",
    "\n",
    "\n",
    "def show(imgs):\n",
    "    if not isinstance(imgs, list):\n",
    "        imgs = [imgs]\n",
    "    fig, axs = plt.subplots(ncols=len(imgs), squeeze=False)\n",
    "    for i, img in enumerate(imgs):\n",
    "        img = img.detach()\n",
    "        img = F.to_pil_image(img)\n",
    "        axs[0, i].imshow(np.asarray(img))\n",
    "        axs[0, i].set(xticklabels=[], yticklabels=[], xticks=[], yticks=[])"
   ]
  },
  {
   "cell_type": "code",
   "execution_count": 25,
   "id": "e200490d",
   "metadata": {},
   "outputs": [],
   "source": [
    "trans = T.Compose([\n",
    "        T.ToPILImage(),\n",
    "        T.Resize((512, 512)),\n",
    "        #T.ConvertImageDtype(torch.float)\n",
    "        T.ToTensor()\n",
    "        ])\n",
    "\n",
    "casia = ReplayAttackDataset(\"/home/raul/liveness/newds/replay-new/data/\", \"train\",\n",
    "                         transform=trans, depth_transform=trans,\n",
    "                         nodepth_path=\"/home/raul/liveness/newds/replay-new/data/attack_depth.png\")\n",
    "ldr = DataLoader(casia, batch_size=16, shuffle=True)\n",
    "\n",
    "def grid_from_batch(imgs, crops, depths, depth_crops):\n",
    "    cat = torch.cat([imgs, crops, depths, depth_crops], 3)\n",
    "    return make_grid(cat)"
   ]
  },
  {
   "cell_type": "code",
   "execution_count": 26,
   "id": "a8276440",
   "metadata": {},
   "outputs": [
    {
     "name": "stdout",
     "output_type": "stream",
     "text": [
      "tensor([1, 0, 0, 1, 1, 1, 1, 1, 1, 1, 1, 1, 1, 0, 1, 1])\n"
     ]
    },
    {
     "data": {
      "image/png": "[encoded data removed]",
      "text/plain": [
       "<Figure size 432x288 with 1 Axes>"
      ]
     },
     "metadata": {},
     "output_type": "display_data"
    }
   ],
   "source": [
    "for imgs, crops, depths, depth_crops, labels in iter(ldr):\n",
    "    print(labels)\n",
    "    show(grid_from_batch(imgs, crops, depths, depth_crops))\n",
    "    break"
   ]
  }
 ],
 "metadata": {
  "kernelspec": {
   "display_name": "Python 3 (ipykernel)",
   "language": "python",
   "name": "python3"
  },
  "language_info": {
   "codemirror_mode": {
    "name": "ipython",
    "version": 3
   },
   "file_extension": ".py",
   "mimetype": "text/x-python",
   "name": "python",
   "nbconvert_exporter": "python",
   "pygments_lexer": "ipython3",
   "version": "3.8.10"
  }
 },
 "nbformat": 4,
 "nbformat_minor": 5
}
